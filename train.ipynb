{
 "cells": [
  {
   "cell_type": "code",
   "execution_count": 1,
   "metadata": {},
   "outputs": [
    {
     "name": "stderr",
     "output_type": "stream",
     "text": [
      "d:\\code\\dementiakiller\\venv\\lib\\site-packages\\tqdm\\auto.py:22: TqdmWarning: IProgress not found. Please update jupyter and ipywidgets. See https://ipywidgets.readthedocs.io/en/stable/user_install.html\n",
      "  from .autonotebook import tqdm as notebook_tqdm\n"
     ]
    }
   ],
   "source": [
    "import gc\n",
    "import math\n",
    "import random\n",
    "\n",
    "import torch\n",
    "import torch.nn as nn\n",
    "\n",
    "import pandas as pd\n",
    "import numpy as np\n",
    "\n",
    "import matplotlib.pyplot as plt\n",
    "\n",
    "from tqdm import trange\n",
    "from pathlib import Path"
   ]
  },
  {
   "cell_type": "code",
   "execution_count": 2,
   "metadata": {},
   "outputs": [],
   "source": [
    "# CONFIG\n",
    "\n",
    "# Training\n",
    "LR = 0.0008\n",
    "BS = 32 # DO NOT CHANGE ATM fixed to numpy folder as each bach is saved as a numpy array \n",
    "\n",
    "DEVICE = 'cuda'\n",
    "\n",
    "CHARSET = \" .,!abcdefghijklmnopqrstuvwxyz\"\n",
    "\n",
    "\n",
    " # TODO: Clean this up\n",
    "FOLDER = Path('data/LJSpeech-1.1/wavs')\n",
    "\n",
    "path_numpy = FOLDER.parent / Path('numpy')\n",
    "path_data = path_numpy / Path('data')\n",
    "path_labels = path_numpy / Path('labels')\n",
    "path_input = path_numpy / Path('input_lengths')\n",
    "path_target = path_numpy / Path('target_lengths')\n",
    "\n",
    "path_models = Path('models')\n",
    "\n",
    "path_models.mkdir(exist_ok=True)"
   ]
  },
  {
   "cell_type": "code",
   "execution_count": 3,
   "metadata": {},
   "outputs": [],
   "source": [
    "# Model (Simple to get started)\n",
    "\n",
    "class Net(nn.Module):\n",
    "\n",
    "    def __init__(self):\n",
    "        super(Net, self).__init__()\n",
    "\n",
    "        self.ln1 = nn.Sequential(\n",
    "                                nn.Linear(50,100),\n",
    "                                nn.ReLU(),                                \n",
    "                                nn.Linear(100,250),\n",
    "                                nn.ReLU(),\n",
    "                                nn.Linear(250,500),\n",
    "                                nn.ReLU(),\n",
    "                                nn.Linear(500,500),\n",
    "                                nn.ReLU(),\n",
    "                                )\n",
    "\n",
    "        self.gru = nn.GRU(500, 500, batch_first=False)\n",
    "        self.ln2 = nn.Sequential(\n",
    "                        nn.Linear(500, 250),\n",
    "                        nn.ReLU(),\n",
    "                        nn.Linear(250, 75),\n",
    "                        nn.ReLU(),\n",
    "                        nn.Linear(75,len(CHARSET)),\n",
    "                         )\n",
    "\n",
    "    def forward(self, x):\n",
    "        x = self.ln1(x)\n",
    "        x = nn.functional.relu(self.gru(x)[0])\n",
    "        x = self.ln2(x)\n",
    "        x = torch.nn.functional.log_softmax(x, dim=2)\n",
    "        return x\n",
    "\n",
    "model = Net().to(DEVICE)\n"
   ]
  },
  {
   "cell_type": "code",
   "execution_count": 4,
   "metadata": {},
   "outputs": [
    {
     "name": "stdout",
     "output_type": "stream",
     "text": [
      "Input shape: torch.Size([1114, 32, 50])\n",
      "Output shape: torch.Size([1114, 32, 30])\n"
     ]
    }
   ],
   "source": [
    "# How are shapes with CTC loss working? \n",
    "# INPUT [time,batch,mels]\n",
    "inn = torch.rand(1114,32,50, device=DEVICE)\n",
    "print(f\"Input shape: {inn.shape}\")\n",
    "test = model(inn)\n",
    "\n",
    "print(f\"Output shape: {test.shape}\")\n",
    "# OUTPUT [time,batch,len(CHARSET)]"
   ]
  },
  {
   "cell_type": "code",
   "execution_count": 5,
   "metadata": {},
   "outputs": [],
   "source": [
    "# Criterion (Loss function) and Optimizer\n",
    "criterion  = nn.CTCLoss(reduction='mean', zero_infinity=True)\n",
    "optimizer = torch.optim.Adam(model.parameters(), lr=LR)"
   ]
  },
  {
   "cell_type": "code",
   "execution_count": 6,
   "metadata": {},
   "outputs": [
    {
     "name": "stderr",
     "output_type": "stream",
     "text": [
      "Loss: 2.6486241817474365:  40%|████      | 80/200 [52:31<1:18:47, 39.40s/it]\n"
     ]
    },
    {
     "ename": "KeyboardInterrupt",
     "evalue": "",
     "output_type": "error",
     "traceback": [
      "\u001b[1;31m---------------------------------------------------------------------------\u001b[0m",
      "\u001b[1;31mKeyboardInterrupt\u001b[0m                         Traceback (most recent call last)",
      "Cell \u001b[1;32mIn [6], line 29\u001b[0m\n\u001b[0;32m     26\u001b[0m optimizer\u001b[38;5;241m.\u001b[39mzero_grad() \u001b[38;5;66;03m# Reset gradient to zero\u001b[39;00m\n\u001b[0;32m     28\u001b[0m \u001b[38;5;66;03m# Forward\u001b[39;00m\n\u001b[1;32m---> 29\u001b[0m output \u001b[38;5;241m=\u001b[39m \u001b[43mmodel\u001b[49m\u001b[43m(\u001b[49m\u001b[43minputs\u001b[49m\u001b[43m)\u001b[49m \n\u001b[0;32m     31\u001b[0m \u001b[38;5;66;03m# Compute loss\u001b[39;00m\n\u001b[0;32m     32\u001b[0m loss \u001b[38;5;241m=\u001b[39m criterion(output, labels, input_lengths,target_lengths)\n",
      "File \u001b[1;32md:\\code\\dementiakiller\\venv\\lib\\site-packages\\torch\\nn\\modules\\module.py:1130\u001b[0m, in \u001b[0;36mModule._call_impl\u001b[1;34m(self, *input, **kwargs)\u001b[0m\n\u001b[0;32m   1126\u001b[0m \u001b[39m# If we don't have any hooks, we want to skip the rest of the logic in\u001b[39;00m\n\u001b[0;32m   1127\u001b[0m \u001b[39m# this function, and just call forward.\u001b[39;00m\n\u001b[0;32m   1128\u001b[0m \u001b[39mif\u001b[39;00m \u001b[39mnot\u001b[39;00m (\u001b[39mself\u001b[39m\u001b[39m.\u001b[39m_backward_hooks \u001b[39mor\u001b[39;00m \u001b[39mself\u001b[39m\u001b[39m.\u001b[39m_forward_hooks \u001b[39mor\u001b[39;00m \u001b[39mself\u001b[39m\u001b[39m.\u001b[39m_forward_pre_hooks \u001b[39mor\u001b[39;00m _global_backward_hooks\n\u001b[0;32m   1129\u001b[0m         \u001b[39mor\u001b[39;00m _global_forward_hooks \u001b[39mor\u001b[39;00m _global_forward_pre_hooks):\n\u001b[1;32m-> 1130\u001b[0m     \u001b[39mreturn\u001b[39;00m forward_call(\u001b[39m*\u001b[39m\u001b[39minput\u001b[39m, \u001b[39m*\u001b[39m\u001b[39m*\u001b[39mkwargs)\n\u001b[0;32m   1131\u001b[0m \u001b[39m# Do not call functions when jit is used\u001b[39;00m\n\u001b[0;32m   1132\u001b[0m full_backward_hooks, non_full_backward_hooks \u001b[39m=\u001b[39m [], []\n",
      "Cell \u001b[1;32mIn [3], line 30\u001b[0m, in \u001b[0;36mNet.forward\u001b[1;34m(self, x)\u001b[0m\n\u001b[0;32m     28\u001b[0m \u001b[38;5;28;01mdef\u001b[39;00m \u001b[38;5;21mforward\u001b[39m(\u001b[38;5;28mself\u001b[39m, x):\n\u001b[0;32m     29\u001b[0m     x \u001b[38;5;241m=\u001b[39m \u001b[38;5;28mself\u001b[39m\u001b[38;5;241m.\u001b[39mln1(x)\n\u001b[1;32m---> 30\u001b[0m     x \u001b[38;5;241m=\u001b[39m nn\u001b[38;5;241m.\u001b[39mfunctional\u001b[38;5;241m.\u001b[39mrelu(\u001b[38;5;28;43mself\u001b[39;49m\u001b[38;5;241;43m.\u001b[39;49m\u001b[43mgru\u001b[49m\u001b[43m(\u001b[49m\u001b[43mx\u001b[49m\u001b[43m)\u001b[49m[\u001b[38;5;241m0\u001b[39m])\n\u001b[0;32m     31\u001b[0m     x \u001b[38;5;241m=\u001b[39m \u001b[38;5;28mself\u001b[39m\u001b[38;5;241m.\u001b[39mln2(x)\n\u001b[0;32m     32\u001b[0m     x \u001b[38;5;241m=\u001b[39m torch\u001b[38;5;241m.\u001b[39mnn\u001b[38;5;241m.\u001b[39mfunctional\u001b[38;5;241m.\u001b[39mlog_softmax(x, dim\u001b[38;5;241m=\u001b[39m\u001b[38;5;241m2\u001b[39m)\n",
      "File \u001b[1;32md:\\code\\dementiakiller\\venv\\lib\\site-packages\\torch\\nn\\modules\\module.py:1130\u001b[0m, in \u001b[0;36mModule._call_impl\u001b[1;34m(self, *input, **kwargs)\u001b[0m\n\u001b[0;32m   1126\u001b[0m \u001b[39m# If we don't have any hooks, we want to skip the rest of the logic in\u001b[39;00m\n\u001b[0;32m   1127\u001b[0m \u001b[39m# this function, and just call forward.\u001b[39;00m\n\u001b[0;32m   1128\u001b[0m \u001b[39mif\u001b[39;00m \u001b[39mnot\u001b[39;00m (\u001b[39mself\u001b[39m\u001b[39m.\u001b[39m_backward_hooks \u001b[39mor\u001b[39;00m \u001b[39mself\u001b[39m\u001b[39m.\u001b[39m_forward_hooks \u001b[39mor\u001b[39;00m \u001b[39mself\u001b[39m\u001b[39m.\u001b[39m_forward_pre_hooks \u001b[39mor\u001b[39;00m _global_backward_hooks\n\u001b[0;32m   1129\u001b[0m         \u001b[39mor\u001b[39;00m _global_forward_hooks \u001b[39mor\u001b[39;00m _global_forward_pre_hooks):\n\u001b[1;32m-> 1130\u001b[0m     \u001b[39mreturn\u001b[39;00m forward_call(\u001b[39m*\u001b[39m\u001b[39minput\u001b[39m, \u001b[39m*\u001b[39m\u001b[39m*\u001b[39mkwargs)\n\u001b[0;32m   1131\u001b[0m \u001b[39m# Do not call functions when jit is used\u001b[39;00m\n\u001b[0;32m   1132\u001b[0m full_backward_hooks, non_full_backward_hooks \u001b[39m=\u001b[39m [], []\n",
      "File \u001b[1;32md:\\code\\dementiakiller\\venv\\lib\\site-packages\\torch\\nn\\modules\\rnn.py:950\u001b[0m, in \u001b[0;36mGRU.forward\u001b[1;34m(self, input, hx)\u001b[0m\n\u001b[0;32m    948\u001b[0m \u001b[39mself\u001b[39m\u001b[39m.\u001b[39mcheck_forward_args(\u001b[39minput\u001b[39m, hx, batch_sizes)\n\u001b[0;32m    949\u001b[0m \u001b[39mif\u001b[39;00m batch_sizes \u001b[39mis\u001b[39;00m \u001b[39mNone\u001b[39;00m:\n\u001b[1;32m--> 950\u001b[0m     result \u001b[39m=\u001b[39m _VF\u001b[39m.\u001b[39;49mgru(\u001b[39minput\u001b[39;49m, hx, \u001b[39mself\u001b[39;49m\u001b[39m.\u001b[39;49m_flat_weights, \u001b[39mself\u001b[39;49m\u001b[39m.\u001b[39;49mbias, \u001b[39mself\u001b[39;49m\u001b[39m.\u001b[39;49mnum_layers,\n\u001b[0;32m    951\u001b[0m                      \u001b[39mself\u001b[39;49m\u001b[39m.\u001b[39;49mdropout, \u001b[39mself\u001b[39;49m\u001b[39m.\u001b[39;49mtraining, \u001b[39mself\u001b[39;49m\u001b[39m.\u001b[39;49mbidirectional, \u001b[39mself\u001b[39;49m\u001b[39m.\u001b[39;49mbatch_first)\n\u001b[0;32m    952\u001b[0m \u001b[39melse\u001b[39;00m:\n\u001b[0;32m    953\u001b[0m     result \u001b[39m=\u001b[39m _VF\u001b[39m.\u001b[39mgru(\u001b[39minput\u001b[39m, batch_sizes, hx, \u001b[39mself\u001b[39m\u001b[39m.\u001b[39m_flat_weights, \u001b[39mself\u001b[39m\u001b[39m.\u001b[39mbias,\n\u001b[0;32m    954\u001b[0m                      \u001b[39mself\u001b[39m\u001b[39m.\u001b[39mnum_layers, \u001b[39mself\u001b[39m\u001b[39m.\u001b[39mdropout, \u001b[39mself\u001b[39m\u001b[39m.\u001b[39mtraining, \u001b[39mself\u001b[39m\u001b[39m.\u001b[39mbidirectional)\n",
      "\u001b[1;31mKeyboardInterrupt\u001b[0m: "
     ]
    }
   ],
   "source": [
    "# TODO: we need to shuffle, currently every batch and epoch are the same\n",
    "# TODO: Normalize data?\n",
    "# TODO: Char mappings how are padding handled vs space \n",
    "\n",
    "EPOCHS = 200\n",
    "\n",
    "traning_loss = []\n",
    "\n",
    "t = trange(EPOCHS)\n",
    "\n",
    "for epoch in t:\n",
    "    for batch in range(408):\n",
    "        batch = random.randint(0, 408) # BUG: HAX: TODO: BAD\n",
    "        inputs = np.load(path_data / Path(str(batch) + '.npy'))\n",
    "        labels = np.load(path_labels / Path(str(batch) + '.npy'))\n",
    "        input_lengths = np.load(path_input / Path(str(batch) + '.npy'))\n",
    "        target_lengths = np.load(path_target / Path(str(batch) + '.npy'))\n",
    "\n",
    "        inputs = torch.tensor(inputs).reshape(-1,BS,50).float().to(DEVICE)\n",
    "        labels = torch.tensor(labels).float().to(DEVICE)\n",
    "        input_lengths = torch.tensor(input_lengths)\n",
    "        target_lengths = torch.tensor(target_lengths)\n",
    "        \n",
    "        #inputs = torch.nn.functional.normalize(inputs)\n",
    "\n",
    "        optimizer.zero_grad() # Reset gradient to zero\n",
    "\n",
    "        # Forward\n",
    "        output = model(inputs) \n",
    "\n",
    "        # Compute loss\n",
    "        loss = criterion(output, labels, input_lengths,target_lengths)\n",
    "\n",
    "        # Update loss\n",
    "        loss.backward()\n",
    "\n",
    "        # optimizer\n",
    "        optimizer.step()\n",
    "        if batch % 10 == 0:\n",
    "            t.set_description(f\"Loss: {loss.item()}\")\n",
    "            traning_loss.append(loss.item())\n",
    "\n",
    "        del inputs\n",
    "        del labels\n",
    "    \n",
    "    if True:\n",
    "        torch.save(model.state_dict(), f\"models/{str(epoch)}.pt\")\n",
    "    \n"
   ]
  },
  {
   "cell_type": "code",
   "execution_count": 7,
   "metadata": {},
   "outputs": [
    {
     "data": {
      "text/plain": [
       "[<matplotlib.lines.Line2D at 0x1ff7d03bb20>]"
      ]
     },
     "execution_count": 7,
     "metadata": {},
     "output_type": "execute_result"
    },
    {
     "data": {
      "image/png": "[encoded data removed]",
      "text/plain": [
       "<Figure size 640x480 with 1 Axes>"
      ]
     },
     "metadata": {},
     "output_type": "display_data"
    }
   ],
   "source": [
    "plt.plot(traning_loss)"
   ]
  },
  {
   "cell_type": "code",
   "execution_count": 16,
   "metadata": {},
   "outputs": [
    {
     "name": "stdout",
     "output_type": "stream",
     "text": [
      "torch.Size([1114, 1, 50])\n",
      "he e e e e e e \n"
     ]
    }
   ],
   "source": [
    "# TEST\n",
    "TEST = 23 \n",
    "TEST2 = 0\n",
    "\n",
    "data = np.load(path_data / Path(str(TEST) + '.npy'))\n",
    "data = torch.tensor(data[TEST2]).float()\n",
    "data = data[:,:,None].permute(1,2,0).to(DEVICE)\n",
    "print(data.shape)\n",
    "\n",
    "# Run the model\n",
    "output = model(data)\n",
    "output = output[:, 0, :].argmax(dim=1)\n",
    "\n",
    "estimate = []\n",
    "for char in output:\n",
    "    if char != 0:\n",
    "        estimate.append(CHARSET[char-1])\n",
    "print(''.join(estimate))"
   ]
  },
  {
   "cell_type": "code",
   "execution_count": 17,
   "metadata": {},
   "outputs": [
    {
     "name": "stdout",
     "output_type": "stream",
     "text": [
      "in the crowd, all of them persons who had  no other avocation or mode of livelihood but thieving,  mr. buxton counted eleven children\n"
     ]
    }
   ],
   "source": [
    "# VERIFY\n",
    "labels = np.load(path_labels / Path(str(batch) + '.npy'))\n",
    "\n",
    "correct = []\n",
    "for char in labels[0]:\n",
    "    if char != 0:\n",
    "        correct.append(CHARSET[char-1])\n",
    "print(''.join(correct))"
   ]
  }
 ],
 "metadata": {
  "kernelspec": {
   "display_name": "Python 3.10.7 ('venv': venv)",
   "language": "python",
   "name": "python3"
  },
  "language_info": {
   "codemirror_mode": {
    "name": "ipython",
    "version": 3
   },
   "file_extension": ".py",
   "mimetype": "text/x-python",
   "name": "python",
   "nbconvert_exporter": "python",
   "pygments_lexer": "ipython3",
   "version": "3.10.7"
  },
  "orig_nbformat": 4,
  "vscode": {
   "interpreter": {
    "hash": "18c33b78ae6f3a75a1b5b4dc86acd528f5f4e1eb2e4105df52c34897cf835f40"
   }
  }
 },
 "nbformat": 4,
 "nbformat_minor": 2
}
