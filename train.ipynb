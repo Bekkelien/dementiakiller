{
 "cells": [
  {
   "cell_type": "code",
   "execution_count": null,
   "metadata": {},
   "outputs": [],
   "source": [
    "import gc\n",
    "import math\n",
    "import random\n",
    "\n",
    "import torch\n",
    "import torch.nn as nn\n",
    "\n",
    "import pandas as pd\n",
    "import numpy as np\n",
    "\n",
    "import matplotlib.pyplot as plt\n",
    "\n",
    "from tqdm import trange\n",
    "from pathlib import Path"
   ]
  },
  {
   "cell_type": "code",
   "execution_count": null,
   "metadata": {},
   "outputs": [],
   "source": [
    "# CONFIG\n",
    "\n",
    "# Training\n",
    "LR = 0.001\n",
    "BS = 32 # DO NOT CHANGE ATM fixed to numpy folder as each bach is saved as a numpy array \n",
    "\n",
    "DEVICE = 'cuda'\n",
    "\n",
    "CHARSET = \" .,!abcdefghijklmnopqrstuvwxyz\"\n",
    "\n",
    "\n",
    " # TODO: Clean this up\n",
    "FOLDER = Path('data/LJSpeech-1.1/wavs')\n",
    "\n",
    "path_numpy = FOLDER.parent / Path('numpy')\n",
    "path_data = path_numpy / Path('data')\n",
    "path_labels = path_numpy / Path('labels')\n",
    "path_input = path_numpy / Path('input_lengths')\n",
    "path_target = path_numpy / Path('target_lengths')\n",
    "\n",
    "path_models = Path('models')\n",
    "\n",
    "path_models.mkdir(exist_ok=True)"
   ]
  },
  {
   "cell_type": "code",
   "execution_count": null,
   "metadata": {},
   "outputs": [],
   "source": [
    "# Model (Simple to get started)\n",
    "\n",
    "class Net(nn.Module):\n",
    "\n",
    "    def __init__(self):\n",
    "        super(Net, self).__init__()\n",
    "\n",
    "        self.ln1 = nn.Sequential(\n",
    "                                nn.Linear(50,100),\n",
    "                                nn.ReLU(),                                \n",
    "                                nn.Linear(100,500),\n",
    "                                nn.ReLU(),\n",
    "                                nn.Linear(500,500),\n",
    "                                nn.ReLU(),\n",
    "                                )\n",
    "\n",
    "        self.gru = nn.GRU(500, 500, batch_first=False)\n",
    "        self.ln2 = nn.Sequential(\n",
    "                        nn.Linear(500, 150),\n",
    "                        nn.ReLU(),\n",
    "                        nn.Linear(150,len(CHARSET)),\n",
    "                         )\n",
    "\n",
    "    def forward(self, x):\n",
    "        x = self.ln1(x)\n",
    "        x = nn.functional.relu(self.gru(x)[0])\n",
    "        x = self.ln2(x)\n",
    "        x = torch.nn.functional.log_softmax(x, dim=2)\n",
    "        return x\n",
    "\n",
    "model = Net().to(DEVICE)\n"
   ]
  },
  {
   "cell_type": "code",
   "execution_count": null,
   "metadata": {},
   "outputs": [],
   "source": [
    "# How are shapes with CTC loss working? \n",
    "# INPUT [time,batch,mels]\n",
    "inn = torch.rand(1114,32,50, device=DEVICE)\n",
    "print(f\"Input shape: {inn.shape}\")\n",
    "test = model(inn)\n",
    "\n",
    "print(f\"Output shape: {test.shape}\")\n",
    "# OUTPUT [time,batch,len(CHARSET)]"
   ]
  },
  {
   "cell_type": "code",
   "execution_count": null,
   "metadata": {},
   "outputs": [],
   "source": [
    "# Criterion (Loss function) and Optimizer\n",
    "criterion  = nn.CTCLoss(reduction='mean', zero_infinity=True)\n",
    "optimizer = torch.optim.Adam(model.parameters(), lr=LR)"
   ]
  },
  {
   "cell_type": "code",
   "execution_count": null,
   "metadata": {},
   "outputs": [],
   "source": [
    "# TODO: we need to shuffle, currently every batch and epoch are the same\n",
    "# TODO: Normalize data?\n",
    "# TODO: Char mappings how are padding handled vs space \n",
    "\n",
    "EPOCHS = 50\n",
    "\n",
    "traning_loss = []\n",
    "\n",
    "t = trange(EPOCHS)\n",
    "\n",
    "for epoch in t:\n",
    "    for batch in range(408):\n",
    "        batch = random.randint(0, 408) # BUG: HAX: TODO: BAD\n",
    "        inputs = np.load(path_data / Path(str(batch) + '.npy'))\n",
    "        labels = np.load(path_labels / Path(str(batch) + '.npy'))\n",
    "        input_lengths = np.load(path_input / Path(str(batch) + '.npy'))\n",
    "        target_lengths = np.load(path_target / Path(str(batch) + '.npy'))\n",
    "\n",
    "        inputs = torch.tensor(inputs).reshape(-1,BS,50).float().to(DEVICE)\n",
    "        labels = torch.tensor(labels).float().to(DEVICE)\n",
    "        input_lengths = torch.tensor(input_lengths)\n",
    "        target_lengths = torch.tensor(target_lengths)\n",
    "        \n",
    "        inputs = torch.nn.functional.normalize(inputs)\n",
    "\n",
    "        optimizer.zero_grad() # Reset gradient to zero\n",
    "\n",
    "        # Forward\n",
    "        output = model(inputs) \n",
    "\n",
    "        # Compute loss\n",
    "        loss = criterion(output, labels, input_lengths,target_lengths)\n",
    "\n",
    "        # Update loss\n",
    "        loss.backward()\n",
    "\n",
    "        # optimizer\n",
    "        optimizer.step()\n",
    "        if batch % 10 == 0:\n",
    "            t.set_description(f\"Loss: {loss.item()}\")\n",
    "\n",
    "        del inputs\n",
    "        del labels\n",
    "    \n",
    "    if True:\n",
    "        torch.save(model.state_dict(), f\"models/{str(epoch)}.pt\")\n",
    "    traning_loss.append(loss.item())\n"
   ]
  },
  {
   "cell_type": "code",
   "execution_count": null,
   "metadata": {},
   "outputs": [],
   "source": [
    "plt.plot(traning_loss)"
   ]
  },
  {
   "cell_type": "code",
   "execution_count": null,
   "metadata": {},
   "outputs": [],
   "source": [
    "# TEST\n",
    "TEST = 2\n",
    "TEST2 = 0\n",
    "\n",
    "data = np.load(path_data / Path(str(TEST) + '.npy'))\n",
    "data = torch.tensor(data[TEST2]).float()\n",
    "data = data[:,:,None].permute(1,2,0).to(DEVICE)\n",
    "print(data.shape)\n",
    "\n",
    "# Run the model\n",
    "output = model(data)\n",
    "output = output[:, 0, :].argmax(dim=1)\n",
    "\n",
    "estimate = []\n",
    "for char in output:\n",
    "    if char != 0:\n",
    "        estimate.append(CHARSET[char])\n",
    "print(''.join(estimate))"
   ]
  },
  {
   "cell_type": "code",
   "execution_count": null,
   "metadata": {},
   "outputs": [],
   "source": [
    "# VERIFY\n",
    "labels = np.load(path_labels / Path(str(batch) + '.npy'))\n",
    "\n",
    "correct = []\n",
    "for char in labels[0]:\n",
    "    correct.append(CHARSET[char])\n",
    "print(''.join(correct))"
   ]
  }
 ],
 "metadata": {
  "kernelspec": {
   "display_name": "Python 3.10.7 ('venv': venv)",
   "language": "python",
   "name": "python3"
  },
  "language_info": {
   "codemirror_mode": {
    "name": "ipython",
    "version": 3
   },
   "file_extension": ".py",
   "mimetype": "text/x-python",
   "name": "python",
   "nbconvert_exporter": "python",
   "pygments_lexer": "ipython3",
   "version": "3.10.7"
  },
  "orig_nbformat": 4,
  "vscode": {
   "interpreter": {
    "hash": "18c33b78ae6f3a75a1b5b4dc86acd528f5f4e1eb2e4105df52c34897cf835f40"
   }
  }
 },
 "nbformat": 4,
 "nbformat_minor": 2
}
