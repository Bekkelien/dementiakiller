{
 "cells": [
  {
   "cell_type": "code",
   "execution_count": 55,
   "metadata": {},
   "outputs": [],
   "source": [
    "import numpy as np\n",
    "from helpers import extract_metadata "
   ]
  },
  {
   "cell_type": "code",
   "execution_count": 56,
   "metadata": {},
   "outputs": [],
   "source": [
    "##### CONFIG #####\n",
    "\n",
    "MAX_CHARACTERS = 331\n",
    "WAV_FILES = 13100\n",
    "\n",
    "# NOTE: we are quite complex here using every original character\n",
    "# Text encoding NOTE: Do not remove the space in CHARSET: \"\"\" ABC\"\"\"\"\n",
    "CHARSET = \"\"\" !\"$&'(),-.0123456789:;?ABCDEFGHIJKLMNOPQRSTUVWXYZ[]abcdefghijklmnopqrstuvwxyz|£àâèéêü’“”\"\"\""
   ]
  },
  {
   "cell_type": "code",
   "execution_count": 62,
   "metadata": {},
   "outputs": [
    {
     "name": "stdout",
     "output_type": "stream",
     "text": [
      " !\"$&'(),-.0123456789:;?ABCDEFGHIJKLMNOPQRSTUVWXYZ[]abcdefghijklmnopqrstuvwxyz|£àâèéêü’“”\n",
      "Size|Len of charset: 89\n"
     ]
    }
   ],
   "source": [
    "print(CHARSET)\n",
    "print(f'Size|Len of charset: {len(CHARSET)} characters')"
   ]
  },
  {
   "cell_type": "code",
   "execution_count": 57,
   "metadata": {},
   "outputs": [
    {
     "data": {
      "text/html": [
       "<div>\n",
       "<style scoped>\n",
       "    .dataframe tbody tr th:only-of-type {\n",
       "        vertical-align: middle;\n",
       "    }\n",
       "\n",
       "    .dataframe tbody tr th {\n",
       "        vertical-align: top;\n",
       "    }\n",
       "\n",
       "    .dataframe thead th {\n",
       "        text-align: right;\n",
       "    }\n",
       "</style>\n",
       "<table border=\"1\" class=\"dataframe\">\n",
       "  <thead>\n",
       "    <tr style=\"text-align: right;\">\n",
       "      <th></th>\n",
       "      <th>filenames</th>\n",
       "      <th>text</th>\n",
       "      <th>text2</th>\n",
       "      <th>charset</th>\n",
       "    </tr>\n",
       "  </thead>\n",
       "  <tbody>\n",
       "    <tr>\n",
       "      <th>0</th>\n",
       "      <td>LJ001-0001</td>\n",
       "      <td>Printing, in the only sense with which we are ...</td>\n",
       "      <td>Printing, in the only sense with which we are ...</td>\n",
       "      <td>[39, 69, 60, 65, 71, 60, 65, 58, 8, 0, 60, 65,...</td>\n",
       "    </tr>\n",
       "    <tr>\n",
       "      <th>1</th>\n",
       "      <td>LJ001-0002</td>\n",
       "      <td>in being comparatively modern.</td>\n",
       "      <td>in being comparatively modern.</td>\n",
       "      <td>[60, 65, 0, 53, 56, 60, 65, 58, 0, 54, 66, 64,...</td>\n",
       "    </tr>\n",
       "    <tr>\n",
       "      <th>2</th>\n",
       "      <td>LJ001-0003</td>\n",
       "      <td>For although the Chinese took impressions from...</td>\n",
       "      <td>For although the Chinese took impressions from...</td>\n",
       "      <td>[29, 66, 69, 0, 52, 63, 71, 59, 66, 72, 58, 59...</td>\n",
       "    </tr>\n",
       "    <tr>\n",
       "      <th>3</th>\n",
       "      <td>LJ001-0004</td>\n",
       "      <td>produced the block books, which were the immed...</td>\n",
       "      <td>produced the block books, which were the immed...</td>\n",
       "      <td>[67, 69, 66, 55, 72, 54, 56, 55, 0, 71, 59, 56...</td>\n",
       "    </tr>\n",
       "    <tr>\n",
       "      <th>4</th>\n",
       "      <td>LJ001-0005</td>\n",
       "      <td>the invention of movable metal letters in the ...</td>\n",
       "      <td>the invention of movable metal letters in the ...</td>\n",
       "      <td>[71, 59, 56, 0, 60, 65, 73, 56, 65, 71, 60, 66...</td>\n",
       "    </tr>\n",
       "  </tbody>\n",
       "</table>\n",
       "</div>"
      ],
      "text/plain": [
       "    filenames                                               text  \\\n",
       "0  LJ001-0001  Printing, in the only sense with which we are ...   \n",
       "1  LJ001-0002                     in being comparatively modern.   \n",
       "2  LJ001-0003  For although the Chinese took impressions from...   \n",
       "3  LJ001-0004  produced the block books, which were the immed...   \n",
       "4  LJ001-0005  the invention of movable metal letters in the ...   \n",
       "\n",
       "                                               text2  \\\n",
       "0  Printing, in the only sense with which we are ...   \n",
       "1                     in being comparatively modern.   \n",
       "2  For although the Chinese took impressions from...   \n",
       "3  produced the block books, which were the immed...   \n",
       "4  the invention of movable metal letters in the ...   \n",
       "\n",
       "                                             charset  \n",
       "0  [39, 69, 60, 65, 71, 60, 65, 58, 8, 0, 60, 65,...  \n",
       "1  [60, 65, 0, 53, 56, 60, 65, 58, 0, 54, 66, 64,...  \n",
       "2  [29, 66, 69, 0, 52, 63, 71, 59, 66, 72, 58, 59...  \n",
       "3  [67, 69, 66, 55, 72, 54, 56, 55, 0, 71, 59, 56...  \n",
       "4  [71, 59, 56, 0, 60, 65, 73, 56, 65, 71, 60, 66...  "
      ]
     },
     "execution_count": 57,
     "metadata": {},
     "output_type": "execute_result"
    }
   ],
   "source": [
    "df_metadata = extract_metadata()\n",
    "\n",
    "# TODO: Better name then full_charset\n",
    "full_charset = []\n",
    "for idx, text in enumerate(df_metadata['text']):\n",
    "    text_encoded = []\n",
    "    for char in text:\n",
    "        text_encoded.append(CHARSET.index(char))\n",
    "\n",
    "    text_encoded = np.array(text_encoded)\n",
    "    text_encoded_and_padded = np.pad(text_encoded,(0, MAX_CHARACTERS-len(text_encoded)))\n",
    "    full_charset.append(text_encoded_and_padded)\n",
    "\n",
    "df_metadata['charset'] = full_charset\n",
    "df_metadata.head()"
   ]
  }
 ],
 "metadata": {
  "kernelspec": {
   "display_name": "Python 3.10.7 ('venv': venv)",
   "language": "python",
   "name": "python3"
  },
  "language_info": {
   "codemirror_mode": {
    "name": "ipython",
    "version": 3
   },
   "file_extension": ".py",
   "mimetype": "text/x-python",
   "name": "python",
   "nbconvert_exporter": "python",
   "pygments_lexer": "ipython3",
   "version": "3.10.7"
  },
  "orig_nbformat": 4,
  "vscode": {
   "interpreter": {
    "hash": "18c33b78ae6f3a75a1b5b4dc86acd528f5f4e1eb2e4105df52c34897cf835f40"
   }
  }
 },
 "nbformat": 4,
 "nbformat_minor": 2
}
