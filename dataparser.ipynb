{
 "cells": [
  {
   "cell_type": "code",
   "execution_count": 8,
   "metadata": {},
   "outputs": [],
   "source": [
    "# Imports\n",
    "import tarfile\n",
    "\n",
    "import pandas as pd\n",
    "\n",
    "from pathlib import Path"
   ]
  },
  {
   "cell_type": "code",
   "execution_count": 9,
   "metadata": {},
   "outputs": [
    {
     "data": {
      "text/plain": [
       "'\\nwith tarfile.open(\"./data/LJSpeech-1.1.tar.bz2\", \"r:bz2\") as tar:\\n    tar.extractall(\"data/LJSpeech\")\\n'"
      ]
     },
     "execution_count": 9,
     "metadata": {},
     "output_type": "execute_result"
    }
   ],
   "source": [
    "# Extract data from LJSpeech\n",
    "\"\"\"\n",
    "with tarfile.open(\"./data/LJSpeech-1.1.tar.bz2\", \"r:bz2\") as tar:\n",
    "    tar.extractall(\"data/\")\n",
    "\"\"\""
   ]
  },
  {
   "cell_type": "code",
   "execution_count": 13,
   "metadata": {},
   "outputs": [
    {
     "data": {
      "text/html": [
       "<div>\n",
       "<style scoped>\n",
       "    .dataframe tbody tr th:only-of-type {\n",
       "        vertical-align: middle;\n",
       "    }\n",
       "\n",
       "    .dataframe tbody tr th {\n",
       "        vertical-align: top;\n",
       "    }\n",
       "\n",
       "    .dataframe thead th {\n",
       "        text-align: right;\n",
       "    }\n",
       "</style>\n",
       "<table border=\"1\" class=\"dataframe\">\n",
       "  <thead>\n",
       "    <tr style=\"text-align: right;\">\n",
       "      <th></th>\n",
       "      <th>LJ001-0001</th>\n",
       "      <th>Printing, in the only sense with which we are at present concerned, differs from most if not from all the arts and crafts represented in the Exhibition</th>\n",
       "      <th>Printing, in the only sense with which we are at present concerned, differs from most if not from all the arts and crafts represented in the Exhibition.1</th>\n",
       "    </tr>\n",
       "  </thead>\n",
       "  <tbody>\n",
       "    <tr>\n",
       "      <th>0</th>\n",
       "      <td>LJ001-0002</td>\n",
       "      <td>in being comparatively modern.</td>\n",
       "      <td>in being comparatively modern.</td>\n",
       "    </tr>\n",
       "    <tr>\n",
       "      <th>1</th>\n",
       "      <td>LJ001-0003</td>\n",
       "      <td>For although the Chinese took impressions from...</td>\n",
       "      <td>For although the Chinese took impressions from...</td>\n",
       "    </tr>\n",
       "    <tr>\n",
       "      <th>2</th>\n",
       "      <td>LJ001-0004</td>\n",
       "      <td>produced the block books, which were the immed...</td>\n",
       "      <td>produced the block books, which were the immed...</td>\n",
       "    </tr>\n",
       "    <tr>\n",
       "      <th>3</th>\n",
       "      <td>LJ001-0005</td>\n",
       "      <td>the invention of movable metal letters in the ...</td>\n",
       "      <td>the invention of movable metal letters in the ...</td>\n",
       "    </tr>\n",
       "    <tr>\n",
       "      <th>4</th>\n",
       "      <td>LJ001-0006</td>\n",
       "      <td>And it is worth mention in passing that, as an...</td>\n",
       "      <td>And it is worth mention in passing that, as an...</td>\n",
       "    </tr>\n",
       "    <tr>\n",
       "      <th>...</th>\n",
       "      <td>...</td>\n",
       "      <td>...</td>\n",
       "      <td>...</td>\n",
       "    </tr>\n",
       "    <tr>\n",
       "      <th>13094</th>\n",
       "      <td>LJ050-0274</td>\n",
       "      <td>made certain recommendations which it believes...</td>\n",
       "      <td>made certain recommendations which it believes...</td>\n",
       "    </tr>\n",
       "    <tr>\n",
       "      <th>13095</th>\n",
       "      <td>LJ050-0275</td>\n",
       "      <td>materially improve upon the procedures in effe...</td>\n",
       "      <td>materially improve upon the procedures in effe...</td>\n",
       "    </tr>\n",
       "    <tr>\n",
       "      <th>13096</th>\n",
       "      <td>LJ050-0276</td>\n",
       "      <td>As has been pointed out, the Commission has no...</td>\n",
       "      <td>As has been pointed out, the Commission has no...</td>\n",
       "    </tr>\n",
       "    <tr>\n",
       "      <th>13097</th>\n",
       "      <td>LJ050-0277</td>\n",
       "      <td>with the active cooperation of the responsible...</td>\n",
       "      <td>with the active cooperation of the responsible...</td>\n",
       "    </tr>\n",
       "    <tr>\n",
       "      <th>13098</th>\n",
       "      <td>LJ050-0278</td>\n",
       "      <td>the recommendations we have here suggested wou...</td>\n",
       "      <td>the recommendations we have here suggested wou...</td>\n",
       "    </tr>\n",
       "  </tbody>\n",
       "</table>\n",
       "<p>13099 rows × 3 columns</p>\n",
       "</div>"
      ],
      "text/plain": [
       "       LJ001-0001  \\\n",
       "0      LJ001-0002   \n",
       "1      LJ001-0003   \n",
       "2      LJ001-0004   \n",
       "3      LJ001-0005   \n",
       "4      LJ001-0006   \n",
       "...           ...   \n",
       "13094  LJ050-0274   \n",
       "13095  LJ050-0275   \n",
       "13096  LJ050-0276   \n",
       "13097  LJ050-0277   \n",
       "13098  LJ050-0278   \n",
       "\n",
       "      Printing, in the only sense with which we are at present concerned, differs from most if not from all the arts and crafts represented in the Exhibition  \\\n",
       "0                         in being comparatively modern.                                                                                                        \n",
       "1      For although the Chinese took impressions from...                                                                                                        \n",
       "2      produced the block books, which were the immed...                                                                                                        \n",
       "3      the invention of movable metal letters in the ...                                                                                                        \n",
       "4      And it is worth mention in passing that, as an...                                                                                                        \n",
       "...                                                  ...                                                                                                        \n",
       "13094  made certain recommendations which it believes...                                                                                                        \n",
       "13095  materially improve upon the procedures in effe...                                                                                                        \n",
       "13096  As has been pointed out, the Commission has no...                                                                                                        \n",
       "13097  with the active cooperation of the responsible...                                                                                                        \n",
       "13098  the recommendations we have here suggested wou...                                                                                                        \n",
       "\n",
       "      Printing, in the only sense with which we are at present concerned, differs from most if not from all the arts and crafts represented in the Exhibition.1  \n",
       "0                         in being comparatively modern.                                                                                                         \n",
       "1      For although the Chinese took impressions from...                                                                                                         \n",
       "2      produced the block books, which were the immed...                                                                                                         \n",
       "3      the invention of movable metal letters in the ...                                                                                                         \n",
       "4      And it is worth mention in passing that, as an...                                                                                                         \n",
       "...                                                  ...                                                                                                         \n",
       "13094  made certain recommendations which it believes...                                                                                                         \n",
       "13095  materially improve upon the procedures in effe...                                                                                                         \n",
       "13096  As has been pointed out, the Commission has no...                                                                                                         \n",
       "13097  with the active cooperation of the responsible...                                                                                                         \n",
       "13098  the recommendations we have here suggested wou...                                                                                                         \n",
       "\n",
       "[13099 rows x 3 columns]"
      ]
     },
     "execution_count": 13,
     "metadata": {},
     "output_type": "execute_result"
    }
   ],
   "source": [
    "\n",
    "df = pd.read_csv('data/LJSpeech-1.1/metadata.csv', delimiter = '|', header=None)\n",
    "df\n"
   ]
  }
 ],
 "metadata": {
  "kernelspec": {
   "display_name": "Python 3.10.7 64-bit",
   "language": "python",
   "name": "python3"
  },
  "language_info": {
   "codemirror_mode": {
    "name": "ipython",
    "version": 3
   },
   "file_extension": ".py",
   "mimetype": "text/x-python",
   "name": "python",
   "nbconvert_exporter": "python",
   "pygments_lexer": "ipython3",
   "version": "3.10.7"
  },
  "orig_nbformat": 4,
  "vscode": {
   "interpreter": {
    "hash": "db8c90093d82801b42b9a1dcb1eca99e5c339d59cc42acc496f6d5328df08ad7"
   }
  }
 },
 "nbformat": 4,
 "nbformat_minor": 2
}
