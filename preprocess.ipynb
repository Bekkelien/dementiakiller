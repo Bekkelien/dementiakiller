{
 "cells": [
  {
   "cell_type": "code",
   "execution_count": null,
   "metadata": {},
   "outputs": [],
   "source": [
    "import torchaudio\n",
    "\n",
    "import numpy as np\n",
    "from pathlib import Path\n",
    "\n",
    "from helpers import extract_metadata "
   ]
  },
  {
   "cell_type": "code",
   "execution_count": null,
   "metadata": {},
   "outputs": [],
   "source": [
    "##### CONFIG #####\n",
    "\n",
    "MAX_CHARACTERS = 331\n",
    "MAX_SPEECH = 1114\n",
    "WAV_FILES = 13100\n",
    "\n",
    "FOLDER = Path('data/LJSpeech-1.1/wavs')\n",
    "\n",
    "# NOTE: we are quite complex here using every original character\n",
    "# Text encoding NOTE: Do not remove the space in CHARSET: \"\"\" ABC\"\"\"\"\n",
    "CHARSET = \"\"\" !\"$&'(),-.0123456789:;?ABCDEFGHIJKLMNOPQRSTUVWXYZ[]abcdefghijklmnopqrstuvwxyz|£àâèéêü’“”\"\"\""
   ]
  },
  {
   "cell_type": "code",
   "execution_count": null,
   "metadata": {},
   "outputs": [],
   "source": [
    "print(CHARSET)\n",
    "print(f'Size|Len of charset: {len(CHARSET)} characters')"
   ]
  },
  {
   "cell_type": "code",
   "execution_count": null,
   "metadata": {},
   "outputs": [],
   "source": [
    "df_metadata = extract_metadata()\n",
    "\n",
    "# TODO: Better name then full_charset\n",
    "full_charset = []\n",
    "for idx, text in enumerate(df_metadata['text']):\n",
    "    text_encoded = []\n",
    "    for char in text:\n",
    "        text_encoded.append(CHARSET.index(char))\n",
    "\n",
    "    text_encoded = np.array(text_encoded)\n",
    "    text_encoded_and_padded = np.pad(text_encoded,(0, MAX_CHARACTERS-len(text_encoded)))\n",
    "    full_charset.append(text_encoded_and_padded)\n",
    "\n",
    "df_metadata['charset'] = full_charset\n",
    "# df_metadata.head()"
   ]
  },
  {
   "cell_type": "code",
   "execution_count": null,
   "metadata": {},
   "outputs": [],
   "source": [
    "# Need's lot's of memory when running all in one process \n",
    "files = list(Path(FOLDER).glob('*.wav'))\n",
    "\n",
    "n_mels = 50\n",
    "mel_specgram_all = []\n",
    "for file in files:\n",
    "    waveform, sample_rate = torchaudio.load(file)\n",
    "    transform = torchaudio.transforms.MelSpectrogram(sample_rate, n_mels=n_mels)\n",
    "    mel_specgram = transform(waveform)\n",
    "    mel_specgram = mel_specgram.numpy().reshape(n_mels,-1)\n",
    "    zeros = np.zeros((n_mels,MAX_SPEECH-mel_specgram.shape[1]), dtype=float)\n",
    "    mel_specgram_padded = np.concatenate((mel_specgram,zeros), axis=1)\n",
    "    mel_specgram_all.append(np.log(mel_specgram_padded))"
   ]
  },
  {
   "cell_type": "code",
   "execution_count": null,
   "metadata": {},
   "outputs": [],
   "source": [
    "# Add spectrogram to the dataframe\n",
    "df_metadata['spectrogram'] = mel_specgram_all\n",
    "df_metadata.head()"
   ]
  },
  {
   "cell_type": "code",
   "execution_count": null,
   "metadata": {},
   "outputs": [],
   "source": [
    "# Store data to a pickle file with spectrogram (NB Log of mel_specgram)\n",
    "df_metadata.to_pickle(FOLDER.parent / 'LJSpeech-1.1.pkl')"
   ]
  }
 ],
 "metadata": {
  "kernelspec": {
   "display_name": "Python 3.10.7 ('venv': venv)",
   "language": "python",
   "name": "python3"
  },
  "language_info": {
   "codemirror_mode": {
    "name": "ipython",
    "version": 3
   },
   "file_extension": ".py",
   "mimetype": "text/x-python",
   "name": "python",
   "nbconvert_exporter": "python",
   "pygments_lexer": "ipython3",
   "version": "3.10.7"
  },
  "orig_nbformat": 4,
  "vscode": {
   "interpreter": {
    "hash": "18c33b78ae6f3a75a1b5b4dc86acd528f5f4e1eb2e4105df52c34897cf835f40"
   }
  }
 },
 "nbformat": 4,
 "nbformat_minor": 2
}
