{
 "cells": [
  {
   "cell_type": "code",
   "execution_count": 34,
   "metadata": {},
   "outputs": [],
   "source": [
    "import torch\n",
    "import torch.nn as nn\n",
    "import numpy as np\n",
    "\n",
    "from pathlib import Path"
   ]
  },
  {
   "cell_type": "code",
   "execution_count": 35,
   "metadata": {},
   "outputs": [],
   "source": [
    "BS = 1\n",
    "MELS = 50\n",
    "DEVICE = 'cuda'\n",
    "CHARSET = \" .,!abcdefghijklmnopqrstuvwxyz\""
   ]
  },
  {
   "cell_type": "code",
   "execution_count": 36,
   "metadata": {},
   "outputs": [
    {
     "data": {
      "text/plain": [
       "'\\nclass Net(nn.Module):\\n\\n    def __init__(self):\\n        super(Net, self).__init__()\\n\\n        self.ln1 = nn.Sequential(\\n                                nn.Linear(50,100),\\n                                nn.ReLU(),                                \\n                                nn.Linear(100,250),\\n                                nn.ReLU(),\\n                                nn.Linear(250,500),\\n                                nn.ReLU(),\\n                                nn.Linear(500,500),\\n                                nn.ReLU(),\\n                                )\\n\\n        self.gru = nn.GRU(500, 500, batch_first=False)\\n        self.ln2 = nn.Sequential(\\n                        nn.Linear(500, 250),\\n                        nn.ReLU(),\\n                        nn.Linear(250, 75),\\n                        nn.ReLU(),\\n                        nn.Linear(75,len(CHARSET)),\\n                         )\\n\\n    def forward(self, x):\\n        x = self.ln1(x)\\n        x = nn.functional.relu(self.gru(x)[0])\\n        x = self.ln2(x)\\n        x = torch.nn.functional.log_softmax(x, dim=2)\\n        return x\\n\\nmodel = Net().to(DEVICE)\\n'"
      ]
     },
     "execution_count": 36,
     "metadata": {},
     "output_type": "execute_result"
    }
   ],
   "source": [
    "# Model (Simple to get started)\n",
    "\"\"\"\n",
    "class Net(nn.Module):\n",
    "\n",
    "    def __init__(self):\n",
    "        super(Net, self).__init__()\n",
    "\n",
    "        self.ln1 = nn.Sequential(\n",
    "                                nn.Linear(50,100),\n",
    "                                nn.ReLU(),                                \n",
    "                                nn.Linear(100,250),\n",
    "                                nn.ReLU(),\n",
    "                                nn.Linear(250,500),\n",
    "                                nn.ReLU(),\n",
    "                                nn.Linear(500,500),\n",
    "                                nn.ReLU(),\n",
    "                                )\n",
    "\n",
    "        self.gru = nn.GRU(500, 500, batch_first=False)\n",
    "        self.ln2 = nn.Sequential(\n",
    "                        nn.Linear(500, 250),\n",
    "                        nn.ReLU(),\n",
    "                        nn.Linear(250, 75),\n",
    "                        nn.ReLU(),\n",
    "                        nn.Linear(75,len(CHARSET)),\n",
    "                         )\n",
    "\n",
    "    def forward(self, x):\n",
    "        x = self.ln1(x)\n",
    "        x = nn.functional.relu(self.gru(x)[0])\n",
    "        x = self.ln2(x)\n",
    "        x = torch.nn.functional.log_softmax(x, dim=2)\n",
    "        return x\n",
    "\n",
    "model = Net().to(DEVICE)\n",
    "\"\"\"\n"
   ]
  },
  {
   "cell_type": "code",
   "execution_count": 37,
   "metadata": {},
   "outputs": [
    {
     "data": {
      "text/plain": [
       "Net(\n",
       "  (conv): Sequential(\n",
       "    (0): Conv2d(1, 16, kernel_size=(3, 3), stride=(1, 1), padding=same)\n",
       "    (1): ReLU()\n",
       "    (2): BatchNorm2d(16, eps=1e-05, momentum=0.1, affine=True, track_running_stats=True)\n",
       "    (3): Conv2d(16, 32, kernel_size=(3, 3), stride=(1, 1), padding=same)\n",
       "    (4): ReLU()\n",
       "    (5): BatchNorm2d(32, eps=1e-05, momentum=0.1, affine=True, track_running_stats=True)\n",
       "  )\n",
       "  (ln1): Sequential(\n",
       "    (0): Linear(in_features=1600, out_features=600, bias=True)\n",
       "    (1): ReLU()\n",
       "    (2): Linear(in_features=600, out_features=300, bias=True)\n",
       "    (3): ReLU()\n",
       "  )\n",
       "  (gru): GRU(300, 300)\n",
       "  (ln2): Sequential(\n",
       "    (0): Linear(in_features=300, out_features=150, bias=True)\n",
       "    (1): ReLU()\n",
       "    (2): Linear(in_features=150, out_features=75, bias=True)\n",
       "    (3): ReLU()\n",
       "    (4): Linear(in_features=75, out_features=30, bias=True)\n",
       "  )\n",
       ")"
      ]
     },
     "execution_count": 37,
     "metadata": {},
     "output_type": "execute_result"
    }
   ],
   "source": [
    "# Model\n",
    "\n",
    "# TODO: CLEAN UP THIS!\n",
    "\n",
    "# NOTE: Do nut use below 64 ATM due to last linear layer\n",
    "C = 16 # BUG: Can we risk clipping for n value of C?\n",
    "class Net(nn.Module):\n",
    "\n",
    "    def __init__(self):\n",
    "        super(Net, self).__init__()\n",
    "\n",
    "        self.conv = nn.Sequential(\n",
    "                                nn.Conv2d(1,C, kernel_size=3, stride=1, padding='same'),\n",
    "                                nn.ReLU(),\n",
    "                                nn.BatchNorm2d(C),\n",
    "                                nn.Conv2d(C,C*2, kernel_size=3, stride=1, padding='same'),\n",
    "                                nn.ReLU(),\n",
    "                                nn.BatchNorm2d(C*2),\n",
    "                                )                          \n",
    "                                \n",
    "\n",
    "        self.ln1 = nn.Sequential(\n",
    "                                nn.Linear((C*2)*50,600),\n",
    "                                nn.ReLU(),                                \n",
    "                                nn.Linear(600,300),\n",
    "                                nn.ReLU(),\n",
    "                                )\n",
    "\n",
    "        self.gru = nn.GRU(300, 300, batch_first=False)\n",
    "        self.ln2 = nn.Sequential(\n",
    "                        nn.Linear(300, 150),\n",
    "                        nn.ReLU(),\n",
    "                        nn.Linear(150, 75),\n",
    "                        nn.ReLU(),\n",
    "                        nn.Linear(75,len(CHARSET)),\n",
    "                         )\n",
    "\n",
    "    def forward(self, x):\n",
    "        # TODO: Use different implementation/Input when using CONV?\n",
    "        # TODO: When using conv should we change input ? Input ATM: (Time,Batch,Mel/Freq) \n",
    "        # TODO: CLEAN UP and make sur it is correct \n",
    "        x = x.reshape(x.shape[1],1,-1,MELS)\n",
    "        #print(x.shape)\n",
    "        x = self.conv(x)\n",
    "        #print(x.shape)\n",
    "        x = x.permute(0, 2, 1, 3)\n",
    "        #print(\"dis\" + str(x.shape))\n",
    "        x = x.reshape(x.shape[0],-1,(C*2)*MELS)\n",
    "        x = x.permute(1,0,2)\n",
    "        #print(x.shape)\n",
    "        x = self.ln1(x)\n",
    "        #print(x.shape)\n",
    "        x = nn.functional.relu(self.gru(x)[0])\n",
    "        #print(x.shape)\n",
    "        x = self.ln2(x)\n",
    "        #print(x.shape)\n",
    "        #  Output (Time,Batch,Mel/Freq) -> Convention when using CTC loss \n",
    "        x = torch.nn.functional.log_softmax(x, dim=2)\n",
    "        return x\n",
    "\n",
    "model = Net().to(DEVICE)\n",
    "model\n"
   ]
  },
  {
   "cell_type": "code",
   "execution_count": 76,
   "metadata": {},
   "outputs": [
    {
     "name": "stdout",
     "output_type": "stream",
     "text": [
      "GUESS-> e e e ee e e ee o e e e e e e e e e e e e e e e e e e e e  e \n",
      "Label-> a little reduced in ugliness. the design of the letters of this modern  old style  leaves a good deal to be desired,\n",
      "GUESS->  e e e e e  e ee  e e e e e e e e e\n",
      "Label-> and the whole effect is a little too gray, owing to the thinness of the letters.\n",
      "GUESS-> e e e e e e e e e e   e e e e e e ee e e e e e e e e e e e e e e  e  ee\n",
      "Label-> it must be remembered, however, that most modern printing is done by machinery on soft paper, and not by the hand press,\n",
      "GUESS-> ee e e e ee e e e e e e e e e ee e e e  e e e e e e e e e e e\n",
      "Label-> and these somewhat wiry letters are suitable for the machine process, which would not do justice to letters of more generous design.\n",
      "GUESS->  a e   e e e  e e e e e e e e e e e e ee e eeoe.\n",
      "Label-> it is discouraging to note that the improvement of the last fifty years is almost wholly confined to great britain.\n"
     ]
    }
   ],
   "source": [
    "# TEST\n",
    "MODEL = 200\n",
    "TEST = 3\n",
    "TEST2 = [1,2,3,14,15]\n",
    "\n",
    "model.load_state_dict(torch.load(f\"models/{str(MODEL)}-c.pt\"))\n",
    "\n",
    "FOLDER = Path('data/LJSpeech-1.1/wavs')\n",
    "\n",
    "path_numpy = FOLDER.parent / Path('numpy')\n",
    "\n",
    "path_data = path_numpy / Path('data')\n",
    "path_labels = path_numpy / Path('labels')\n",
    "\n",
    "for index, i in enumerate(range(len(TEST2))):\n",
    "\n",
    "    data = np.load(path_data / Path(str(TEST) + '.npy'))\n",
    "    data = torch.tensor(data[index]).float()\n",
    "    #data = torch.nn.functional.normalize(data)\n",
    "    data = data[:,:,None].permute(1,2,0).to(DEVICE)\n",
    "    # print(data.shape)\n",
    "\n",
    "    # Run the model\n",
    "    output = model(data)\n",
    "    output = output[:, 0, :].argmax(dim=1)\n",
    "    #print(output[0:800])\n",
    "    estimate = []\n",
    "    for char in output:\n",
    "        if char != 0:\n",
    "            estimate.append(CHARSET[char-1])\n",
    "    print(\"GUESS-> \" + ''.join(estimate))\n",
    "\n",
    "    # VERIFY\n",
    "    labels = np.load(path_labels / Path(str(TEST) + '.npy'))\n",
    "\n",
    "    correct = []\n",
    "    for char in labels[index]:\n",
    "        if char != 0:\n",
    "            correct.append(CHARSET[char-1])\n",
    "    print(\"Label-> \" + ''.join(correct))"
   ]
  }
 ],
 "metadata": {
  "kernelspec": {
   "display_name": "Python 3.10.7 64-bit",
   "language": "python",
   "name": "python3"
  },
  "language_info": {
   "codemirror_mode": {
    "name": "ipython",
    "version": 3
   },
   "file_extension": ".py",
   "mimetype": "text/x-python",
   "name": "python",
   "nbconvert_exporter": "python",
   "pygments_lexer": "ipython3",
   "version": "3.10.7"
  },
  "orig_nbformat": 4,
  "vscode": {
   "interpreter": {
    "hash": "db8c90093d82801b42b9a1dcb1eca99e5c339d59cc42acc496f6d5328df08ad7"
   }
  }
 },
 "nbformat": 4,
 "nbformat_minor": 2
}
