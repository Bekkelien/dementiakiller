{
 "cells": [
  {
   "cell_type": "code",
   "execution_count": 44,
   "metadata": {},
   "outputs": [],
   "source": [
    "import torch\n",
    "import torch.nn as nn\n",
    "import numpy as np\n",
    "\n",
    "from pathlib import Path"
   ]
  },
  {
   "cell_type": "code",
   "execution_count": 45,
   "metadata": {},
   "outputs": [],
   "source": [
    "DEVICE = 'cuda'\n",
    "CHARSET = \" .,!abcdefghijklmnopqrstuvwxyz\""
   ]
  },
  {
   "cell_type": "code",
   "execution_count": 46,
   "metadata": {},
   "outputs": [],
   "source": [
    "# Model (Simple to get started)\n",
    "\n",
    "class Net(nn.Module):\n",
    "\n",
    "    def __init__(self):\n",
    "        super(Net, self).__init__()\n",
    "\n",
    "        self.ln1 = nn.Sequential(\n",
    "                                nn.Linear(50,100),\n",
    "                                nn.ReLU(),                                \n",
    "                                nn.Linear(100,500),\n",
    "                                nn.ReLU(),\n",
    "                                nn.Linear(500,500),\n",
    "                                nn.ReLU(),\n",
    "                                )\n",
    "\n",
    "        self.gru = nn.GRU(500, 500, batch_first=False)\n",
    "        self.ln2 = nn.Sequential(\n",
    "                        nn.Linear(500, 150),\n",
    "                        nn.ReLU(),\n",
    "                        nn.Linear(150,len(CHARSET)),\n",
    "                         )\n",
    "\n",
    "    def forward(self, x):\n",
    "        x = self.ln1(x)\n",
    "        x = nn.functional.relu(self.gru(x)[0])\n",
    "        x = self.ln2(x)\n",
    "        x = torch.nn.functional.log_softmax(x, dim=2)\n",
    "        return x\n",
    "\n",
    "model = Net().to(DEVICE)\n"
   ]
  },
  {
   "cell_type": "code",
   "execution_count": 47,
   "metadata": {},
   "outputs": [
    {
     "data": {
      "text/plain": [
       "<All keys matched successfully>"
      ]
     },
     "execution_count": 47,
     "metadata": {},
     "output_type": "execute_result"
    }
   ],
   "source": [
    "model.load_state_dict(torch.load(f\"models/{str(8)}.pt\"))"
   ]
  },
  {
   "cell_type": "code",
   "execution_count": 48,
   "metadata": {},
   "outputs": [
    {
     "name": "stdout",
     "output_type": "stream",
     "text": [
      "torch.Size([1114, 1, 50])\n",
      "ui\n"
     ]
    }
   ],
   "source": [
    "# TEST\n",
    "TEST = 1\n",
    "TEST2 = 1\n",
    "\n",
    "FOLDER = Path('data/LJSpeech-1.1/wavs')\n",
    "\n",
    "path_numpy = FOLDER.parent / Path('numpy')\n",
    "\n",
    "path_data = path_numpy / Path('data')\n",
    "path_labels = path_numpy / Path('labels')\n",
    "\n",
    "data = np.load(path_data / Path(str(TEST) + '.npy'))\n",
    "data = torch.tensor(data[TEST2]).float()\n",
    "data = torch.nn.functional.normalize(data)\n",
    "data = data[:,:,None].permute(1,2,0).to(DEVICE)\n",
    "print(data.shape)\n",
    "\n",
    "# Run the model\n",
    "output = model(data)\n",
    "output = output[:, 0, :].argmax(dim=1)\n",
    "#print(output[0:800])\n",
    "estimate = []\n",
    "for char in output:\n",
    "    if char != 0:\n",
    "        estimate.append(CHARSET[char])\n",
    "print(''.join(estimate))"
   ]
  },
  {
   "cell_type": "code",
   "execution_count": 49,
   "metadata": {},
   "outputs": [
    {
     "name": "stdout",
     "output_type": "stream",
     "text": [
      "twice a week there was a wine and beer club held at night, which lasted till two or three in the morning.\n"
     ]
    }
   ],
   "source": [
    "# VERIFY\n",
    "labels = np.load(path_labels / Path(str(TEST) + '.npy'))\n",
    "\n",
    "correct = []\n",
    "for char in labels[TEST2]:\n",
    "    if char != 0:\n",
    "        correct.append(CHARSET[char-1])\n",
    "print(''.join(correct))"
   ]
  }
 ],
 "metadata": {
  "kernelspec": {
   "display_name": "Python 3.10.7 64-bit",
   "language": "python",
   "name": "python3"
  },
  "language_info": {
   "codemirror_mode": {
    "name": "ipython",
    "version": 3
   },
   "file_extension": ".py",
   "mimetype": "text/x-python",
   "name": "python",
   "nbconvert_exporter": "python",
   "pygments_lexer": "ipython3",
   "version": "3.10.7"
  },
  "orig_nbformat": 4,
  "vscode": {
   "interpreter": {
    "hash": "db8c90093d82801b42b9a1dcb1eca99e5c339d59cc42acc496f6d5328df08ad7"
   }
  }
 },
 "nbformat": 4,
 "nbformat_minor": 2
}
